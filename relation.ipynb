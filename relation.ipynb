{
 "cells": [
  {
   "cell_type": "markdown",
   "metadata": {
    "id": "J8XxC0sYabC4"
   },
   "source": [
    "# A simple Cnn experiments\n",
    "\n",
    "In this notebook is illustrated a way to create a Cnn to classify the photos of eigth different plant species.\n",
    "\n",
    "To do that I wrote some useful functions and objects that make to me easier the\n",
    "code to read\n",
    "\n",
    "We have:\n",
    "\n",
    "\n",
    "1.   covnet module that have \n",
    "  * a basic function to create a stratified cnn with a specified hidden layers\n",
    "  * basic functions to create  retrain a model specifying for how many epochs, if we want to merge  classes and if we want to delete some of them.\n",
    "2. learningStages module that have learner objects that in general\n",
    "  * prepare the dataset basing on the value of internal variable\n",
    "  * train the model for 3 rounds where the following operation are performed\n",
    "    * choose for how many epochs the model should retrain based on the state of internal variables\n",
    "    * choose if the training should be done using a  class-balanced dataset\n",
    "    * save the model and evaluate\n",
    "\n",
    "3. dataExpander and dataPrep module which contain the logic to augment the dataset based on a customizable pipeline composed of multi output stages\n",
    "\n",
    "\n",
    "In the following cell is contained the code that produce the submitted model\n",
    "As learner I choose a SplittedLearner that in particular has the  (1.7)  Pipeline"
   ]
  },
  {
   "cell_type": "code",
   "execution_count": 1,
   "metadata": {
    "executionInfo": {
     "elapsed": 13703,
     "status": "ok",
     "timestamp": 1668856637044,
     "user": {
      "displayName": "Pierluigi Carlino",
      "userId": "12249918040888740144"
     },
     "user_tz": -60
    },
    "id": "mTa7zCNXbWca",
    "scrolled": true
   },
   "outputs": [
    {
     "name": "stdout",
     "output_type": "stream",
     "text": [
      "Model: \"sequential\"\n",
      "_________________________________________________________________\n",
      " Layer (type)                Output Shape              Param #   \n",
      "=================================================================\n",
      " conv2d (Conv2D)             (None, 96, 96, 90)        1170      \n",
      "                                                                 \n",
      " batch_normalization (BatchN  (None, 96, 96, 90)       360       \n",
      " ormalization)                                                   \n",
      "                                                                 \n",
      " conv2d_1 (Conv2D)           (None, 96, 96, 90)        32490     \n",
      "                                                                 \n",
      " batch_normalization_1 (Batc  (None, 96, 96, 90)       360       \n",
      " hNormalization)                                                 \n",
      "                                                                 \n",
      " max_pooling2d (MaxPooling2D  (None, 48, 48, 90)       0         \n",
      " )                                                               \n",
      "                                                                 \n",
      " conv2d_2 (Conv2D)           (None, 48, 48, 180)       64980     \n",
      "                                                                 \n",
      " batch_normalization_2 (Batc  (None, 48, 48, 180)      720       \n",
      " hNormalization)                                                 \n",
      "                                                                 \n",
      " max_pooling2d_1 (MaxPooling  (None, 24, 24, 180)      0         \n",
      " 2D)                                                             \n",
      "                                                                 \n",
      " conv2d_3 (Conv2D)           (None, 24, 24, 360)       259560    \n",
      "                                                                 \n",
      " batch_normalization_3 (Batc  (None, 24, 24, 360)      1440      \n",
      " hNormalization)                                                 \n",
      "                                                                 \n",
      " max_pooling2d_2 (MaxPooling  (None, 12, 12, 360)      0         \n",
      " 2D)                                                             \n",
      "                                                                 \n",
      " flatten (Flatten)           (None, 51840)             0         \n",
      "                                                                 \n",
      " dropout (Dropout)           (None, 51840)             0         \n",
      "                                                                 \n",
      " firstHidden (Dense)         (None, 100)               5184100   \n",
      "                                                                 \n",
      " dropout_1 (Dropout)         (None, 100)               0         \n",
      "                                                                 \n",
      " summarizer (Dense)          (None, 50)                5050      \n",
      "                                                                 \n",
      " dropout_2 (Dropout)         (None, 50)                0         \n",
      "                                                                 \n",
      " expander (Dense)            (None, 100)               5100      \n",
      "                                                                 \n",
      " dropout_3 (Dropout)         (None, 100)               0         \n",
      "                                                                 \n",
      " dense (Dense)               (None, 8)                 808       \n",
      "                                                                 \n",
      "=================================================================\n",
      "Total params: 5,556,138\n",
      "Trainable params: 5,554,698\n",
      "Non-trainable params: 1,440\n",
      "_________________________________________________________________\n",
      "Model: \"sequential\"\n",
      "_________________________________________________________________\n",
      " Layer (type)                Output Shape              Param #   \n",
      "=================================================================\n",
      " conv2d (Conv2D)             (None, 96, 96, 90)        1170      \n",
      "                                                                 \n",
      " batch_normalization (BatchN  (None, 96, 96, 90)       360       \n",
      " ormalization)                                                   \n",
      "                                                                 \n",
      " conv2d_1 (Conv2D)           (None, 96, 96, 90)        32490     \n",
      "                                                                 \n",
      " batch_normalization_1 (Batc  (None, 96, 96, 90)       360       \n",
      " hNormalization)                                                 \n",
      "                                                                 \n",
      " max_pooling2d (MaxPooling2D  (None, 48, 48, 90)       0         \n",
      " )                                                               \n",
      "                                                                 \n",
      " conv2d_2 (Conv2D)           (None, 48, 48, 180)       64980     \n",
      "                                                                 \n",
      " batch_normalization_2 (Batc  (None, 48, 48, 180)      720       \n",
      " hNormalization)                                                 \n",
      "                                                                 \n",
      " max_pooling2d_1 (MaxPooling  (None, 24, 24, 180)      0         \n",
      " 2D)                                                             \n",
      "                                                                 \n",
      " conv2d_3 (Conv2D)           (None, 24, 24, 360)       259560    \n",
      "                                                                 \n",
      " batch_normalization_3 (Batc  (None, 24, 24, 360)      1440      \n",
      " hNormalization)                                                 \n",
      "                                                                 \n",
      " max_pooling2d_2 (MaxPooling  (None, 12, 12, 360)      0         \n",
      " 2D)                                                             \n",
      "                                                                 \n",
      " flatten (Flatten)           (None, 51840)             0         \n",
      "                                                                 \n",
      " dropout (Dropout)           (None, 51840)             0         \n",
      "                                                                 \n",
      " firstHidden (Dense)         (None, 100)               5184100   \n",
      "                                                                 \n",
      " dropout_1 (Dropout)         (None, 100)               0         \n",
      "                                                                 \n",
      " summarizer (Dense)          (None, 50)                5050      \n",
      "                                                                 \n",
      " dropout_2 (Dropout)         (None, 50)                0         \n",
      "                                                                 \n",
      " expander (Dense)            (None, 100)               5100      \n",
      "                                                                 \n",
      " dropout_3 (Dropout)         (None, 100)               0         \n",
      "                                                                 \n",
      " dense (Dense)               (None, 8)                 808       \n",
      "                                                                 \n",
      "=================================================================\n",
      "Total params: 5,556,138\n",
      "Trainable params: 5,554,698\n",
      "Non-trainable params: 1,440\n",
      "_________________________________________________________________\n"
     ]
    }
   ],
   "source": [
    "from learningStages import *\n",
    "from covnet import *\n",
    "from tensorflow.keras.layers import Dense\n",
    "from tensorflow.keras.models import * \n",
    "\n",
    "hiddenLayers = [\n",
    "    Dense(100,activation='relu',name='firstHidden'),\n",
    "    Dense(50,activation='relu',name='summarizer'),\n",
    "    Dense(100,activation='relu',name='expander')\n",
    "]\n",
    "\n",
    "#create the model to be trained by the learner\n",
    "simpleCnn = simpleOnLayerCov((96,96,3),90,3,(2,2),8,hiddenLayers,)\n",
    "simpleCnn.summary()\n",
    "\n",
    "splittLearner = SplitLearner(\n",
    "    simpleCnn,\n",
    "    'firstSplitStage',\n",
    "    baseLimit=100000,\n",
    "    baseEpoch=100\n",
    ")\n",
    "\n",
    "\n"
   ]
  },
  {
   "cell_type": "markdown",
   "metadata": {
    "id": "SFJv0cyjQg7E"
   },
   "source": [
    "Now we set the internal variables in particular\n",
    "* set verbose to 1 to prevent the cutting of  the output coming from the fit call on model\n",
    "* set the epoch range(we set to 5 to make the process a little faster than the one that I used(200))\n",
    "* set limit to 10 to have a faster simulation(during my experiments it was 10e6 (choose wisely this parameter . Base the choice on the architecture where the model will be trained))\n",
    "\n",
    "--Notes: the data expander pipeline is meant to create a new thread for each image in each stage so even if  the progress bar reach 100% the\n",
    "first time you have to wait that all crated threads terminates.\n",
    "Furthermore, the saving process of produced images is not parallelized, so it will be slower\n",
    "\n",
    "With this configuration   we will have 1416800 new images to train our model on"
   ]
  },
  {
   "cell_type": "code",
   "execution_count": 6,
   "metadata": {
    "colab": {
     "base_uri": "https://localhost:8080/",
     "height": 389
    },
    "executionInfo": {
     "elapsed": 7,
     "status": "error",
     "timestamp": 1668818890849,
     "user": {
      "displayName": "Pierluigi Carlino",
      "userId": "12249918040888740144"
     },
     "user_tz": -60
    },
    "id": "TbirtuB8cl_k",
    "outputId": "716421e3-58b0-461a-bdee-b3526de4edae"
   },
   "outputs": [
    {
     "name": "stdout",
     "output_type": "stream",
     "text": [
      "False\n",
      "0:\tep:14 lim:14 equ:True\n"
     ]
    },
    {
     "name": "stderr",
     "output_type": "stream",
     "text": [
      "WARNING:absl:Found untraced functions such as _jit_compiled_convolution_op, _jit_compiled_convolution_op, _jit_compiled_convolution_op, _jit_compiled_convolution_op while saving (showing 4 of 4). These functions will not be directly callable after loading.\n"
     ]
    },
    {
     "name": "stdout",
     "output_type": "stream",
     "text": [
      "INFO:tensorflow:Assets written to: export/export/Split_firstSplitStage_1.0/assets\n"
     ]
    },
    {
     "name": "stderr",
     "output_type": "stream",
     "text": [
      "INFO:tensorflow:Assets written to: export/export/Split_firstSplitStage_1.0/assets\n"
     ]
    },
    {
     "name": "stdout",
     "output_type": "stream",
     "text": [
      "1/1 [==============================] - 0s 49ms/step - loss: 13.0828 - accuracy: 0.3333\n",
      "False\n",
      "1:\tep:15 lim:11 equ:True\n"
     ]
    },
    {
     "name": "stderr",
     "output_type": "stream",
     "text": [
      "WARNING:absl:Found untraced functions such as _jit_compiled_convolution_op, _jit_compiled_convolution_op, _jit_compiled_convolution_op, _jit_compiled_convolution_op while saving (showing 4 of 4). These functions will not be directly callable after loading.\n"
     ]
    },
    {
     "name": "stdout",
     "output_type": "stream",
     "text": [
      "INFO:tensorflow:Assets written to: export/export/Split_firstSplitStage_1.0/assets\n"
     ]
    },
    {
     "name": "stderr",
     "output_type": "stream",
     "text": [
      "INFO:tensorflow:Assets written to: export/export/Split_firstSplitStage_1.0/assets\n"
     ]
    },
    {
     "name": "stdout",
     "output_type": "stream",
     "text": [
      "1/1 [==============================] - 0s 42ms/step - loss: 20.5805 - accuracy: 0.0000e+00\n",
      "False\n",
      "2:\tep:12 lim:13 equ:True\n"
     ]
    },
    {
     "name": "stderr",
     "output_type": "stream",
     "text": [
      "WARNING:absl:Found untraced functions such as _jit_compiled_convolution_op, _jit_compiled_convolution_op, _jit_compiled_convolution_op, _jit_compiled_convolution_op while saving (showing 4 of 4). These functions will not be directly callable after loading.\n"
     ]
    },
    {
     "name": "stdout",
     "output_type": "stream",
     "text": [
      "INFO:tensorflow:Assets written to: export/export/Split_firstSplitStage_1.0/assets\n"
     ]
    },
    {
     "name": "stderr",
     "output_type": "stream",
     "text": [
      "INFO:tensorflow:Assets written to: export/export/Split_firstSplitStage_1.0/assets\n"
     ]
    },
    {
     "name": "stdout",
     "output_type": "stream",
     "text": [
      "1/1 [==============================] - 0s 39ms/step - loss: 9.9951 - accuracy: 0.0000e+00\n"
     ]
    }
   ],
   "source": [
    "splittLearner.verbose = 0\n",
    "splittLearner.OnBad = False\n",
    "\n",
    "splittLearner.baseEpoch = 10\n",
    "splittLearner.epochIncrement = 1.5\n",
    "splittLearner.baseLimit = 10\n",
    "\n",
    "splittLearner.perform()\n"
   ]
  },
  {
   "cell_type": "markdown",
   "metadata": {},
   "source": [
    "Now visualize the result in a heatmap"
   ]
  },
  {
   "cell_type": "code",
   "execution_count": null,
   "metadata": {},
   "outputs": [],
   "source": [
    "splittLearner.evaluate()"
   ]
  }
 ],
 "metadata": {
  "accelerator": "GPU",
  "colab": {
   "machine_shape": "hm",
   "provenance": []
  },
  "gpuClass": "standard",
  "kernelspec": {
   "display_name": "Python 3 (ipykernel)",
   "language": "python",
   "name": "python3"
  },
  "language_info": {
   "codemirror_mode": {
    "name": "ipython",
    "version": 3
   },
   "file_extension": ".py",
   "mimetype": "text/x-python",
   "name": "python",
   "nbconvert_exporter": "python",
   "pygments_lexer": "ipython3",
   "version": "3.9.6"
  }
 },
 "nbformat": 4,
 "nbformat_minor": 4
}
